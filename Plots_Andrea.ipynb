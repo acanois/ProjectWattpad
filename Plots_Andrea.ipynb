{
 "cells": [
  {
   "cell_type": "markdown",
   "metadata": {},
   "source": [
    "# Plots for the following research questions:\n",
    "* Number of stories created each year based on creation date?\n",
    "* Average time to finish a story? Search for completed stories, take difference between modify and create date.\n",
    "* Average number of parts per story (for completed stories)?\n",
    "* Does length of read count correlate to a certain story length? Does read count correlate to number of parts per story?"
   ]
  },
  {
   "cell_type": "code",
   "execution_count": 1,
   "metadata": {
    "collapsed": true
   },
   "outputs": [],
   "source": [
    "import pandas as pd\n",
    "import matplotlib.pyplot as plt\n",
    "from datetime import datetime"
   ]
  },
  {
   "cell_type": "code",
   "execution_count": 2,
   "metadata": {
    "collapsed": true
   },
   "outputs": [],
   "source": [
    "plotdf=pd.read_csv('Data/stories_for_viz.csv')"
   ]
  },
  {
   "cell_type": "code",
   "execution_count": 3,
   "metadata": {},
   "outputs": [
    {
     "data": {
      "text/plain": [
       "Index(['id', 'title', 'description', 'url', 'createDate', 'modifyDate',\n",
       "       'completed', 'numParts', 'deleted', 'length', 'categoryId',\n",
       "       'categoryName', 'languageId', 'languageName', 'mature', 'rating',\n",
       "       'tags', 'commentCount', 'readCount', 'voteCount', 'userAvatar',\n",
       "       'userFullname', 'userName'],\n",
       "      dtype='object')"
      ]
     },
     "execution_count": 3,
     "metadata": {},
     "output_type": "execute_result"
    }
   ],
   "source": [
    "plotdf.columns"
   ]
  },
  {
   "cell_type": "code",
   "execution_count": 4,
   "metadata": {},
   "outputs": [
    {
     "data": {
      "text/html": [
       "<div>\n",
       "<style>\n",
       "    .dataframe thead tr:only-child th {\n",
       "        text-align: right;\n",
       "    }\n",
       "\n",
       "    .dataframe thead th {\n",
       "        text-align: left;\n",
       "    }\n",
       "\n",
       "    .dataframe tbody tr th {\n",
       "        vertical-align: top;\n",
       "    }\n",
       "</style>\n",
       "<table border=\"1\" class=\"dataframe\">\n",
       "  <thead>\n",
       "    <tr style=\"text-align: right;\">\n",
       "      <th></th>\n",
       "      <th>id</th>\n",
       "      <th>title</th>\n",
       "      <th>description</th>\n",
       "      <th>url</th>\n",
       "      <th>createDate</th>\n",
       "      <th>modifyDate</th>\n",
       "      <th>completed</th>\n",
       "      <th>numParts</th>\n",
       "      <th>deleted</th>\n",
       "      <th>length</th>\n",
       "      <th>...</th>\n",
       "      <th>languageName</th>\n",
       "      <th>mature</th>\n",
       "      <th>rating</th>\n",
       "      <th>tags</th>\n",
       "      <th>commentCount</th>\n",
       "      <th>readCount</th>\n",
       "      <th>voteCount</th>\n",
       "      <th>userAvatar</th>\n",
       "      <th>userFullname</th>\n",
       "      <th>userName</th>\n",
       "    </tr>\n",
       "  </thead>\n",
       "  <tbody>\n",
       "    <tr>\n",
       "      <th>0</th>\n",
       "      <td>12050237</td>\n",
       "      <td>Hadar #Watty2014</td>\n",
       "      <td>Fina is a Enforcers Daughter, she's been harsh...</td>\n",
       "      <td>https://www.wattpad.com/story/12050237-hadar-w...</td>\n",
       "      <td>2014-01-29T16:24:42Z</td>\n",
       "      <td>2015-01-27T10:47:41Z</td>\n",
       "      <td>True</td>\n",
       "      <td>37</td>\n",
       "      <td>False</td>\n",
       "      <td>407525</td>\n",
       "      <td>...</td>\n",
       "      <td>English</td>\n",
       "      <td>False</td>\n",
       "      <td>3</td>\n",
       "      <td>['alpha', 'curse', 'luna', 'magic', 'power', '...</td>\n",
       "      <td>5187</td>\n",
       "      <td>2688905</td>\n",
       "      <td>106844</td>\n",
       "      <td>https://a.wattpad.com/useravatar/RevyRogue.128...</td>\n",
       "      <td>Reviana</td>\n",
       "      <td>RevyRogue</td>\n",
       "    </tr>\n",
       "    <tr>\n",
       "      <th>1</th>\n",
       "      <td>42937930</td>\n",
       "      <td>❇awsome comebacks❇</td>\n",
       "      <td>yessss!!!!</td>\n",
       "      <td>https://www.wattpad.com/story/42937930-%E2%9D%...</td>\n",
       "      <td>2015-06-22T23:55:09Z</td>\n",
       "      <td>2015-08-16T08:07:12Z</td>\n",
       "      <td>True</td>\n",
       "      <td>16</td>\n",
       "      <td>False</td>\n",
       "      <td>2204</td>\n",
       "      <td>...</td>\n",
       "      <td>English</td>\n",
       "      <td>False</td>\n",
       "      <td>0</td>\n",
       "      <td>['dumb', 'funny', 'listen', 'nothing', 'okay']</td>\n",
       "      <td>9738</td>\n",
       "      <td>1344254</td>\n",
       "      <td>37258</td>\n",
       "      <td>https://a.wattpad.com/useravatar/kittygirl_121...</td>\n",
       "      <td>NaN</td>\n",
       "      <td>kittygirl_121604</td>\n",
       "    </tr>\n",
       "  </tbody>\n",
       "</table>\n",
       "<p>2 rows × 23 columns</p>\n",
       "</div>"
      ],
      "text/plain": [
       "         id               title  \\\n",
       "0  12050237    Hadar #Watty2014   \n",
       "1  42937930  ❇awsome comebacks❇   \n",
       "\n",
       "                                         description  \\\n",
       "0  Fina is a Enforcers Daughter, she's been harsh...   \n",
       "1                                         yessss!!!!   \n",
       "\n",
       "                                                 url            createDate  \\\n",
       "0  https://www.wattpad.com/story/12050237-hadar-w...  2014-01-29T16:24:42Z   \n",
       "1  https://www.wattpad.com/story/42937930-%E2%9D%...  2015-06-22T23:55:09Z   \n",
       "\n",
       "             modifyDate  completed  numParts  deleted  length  \\\n",
       "0  2015-01-27T10:47:41Z       True        37    False  407525   \n",
       "1  2015-08-16T08:07:12Z       True        16    False    2204   \n",
       "\n",
       "         ...         languageName mature  rating  \\\n",
       "0        ...              English  False       3   \n",
       "1        ...              English  False       0   \n",
       "\n",
       "                                                tags  commentCount  readCount  \\\n",
       "0  ['alpha', 'curse', 'luna', 'magic', 'power', '...          5187    2688905   \n",
       "1     ['dumb', 'funny', 'listen', 'nothing', 'okay']          9738    1344254   \n",
       "\n",
       "  voteCount                                         userAvatar  userFullname  \\\n",
       "0    106844  https://a.wattpad.com/useravatar/RevyRogue.128...       Reviana   \n",
       "1     37258  https://a.wattpad.com/useravatar/kittygirl_121...           NaN   \n",
       "\n",
       "           userName  \n",
       "0         RevyRogue  \n",
       "1  kittygirl_121604  \n",
       "\n",
       "[2 rows x 23 columns]"
      ]
     },
     "execution_count": 4,
     "metadata": {},
     "output_type": "execute_result"
    }
   ],
   "source": [
    "plotdf.head(2)"
   ]
  },
  {
   "cell_type": "code",
   "execution_count": 5,
   "metadata": {},
   "outputs": [
    {
     "data": {
      "text/html": [
       "<div>\n",
       "<style>\n",
       "    .dataframe thead tr:only-child th {\n",
       "        text-align: right;\n",
       "    }\n",
       "\n",
       "    .dataframe thead th {\n",
       "        text-align: left;\n",
       "    }\n",
       "\n",
       "    .dataframe tbody tr th {\n",
       "        vertical-align: top;\n",
       "    }\n",
       "</style>\n",
       "<table border=\"1\" class=\"dataframe\">\n",
       "  <thead>\n",
       "    <tr style=\"text-align: right;\">\n",
       "      <th></th>\n",
       "      <th>id</th>\n",
       "      <th>title</th>\n",
       "      <th>description</th>\n",
       "      <th>url</th>\n",
       "      <th>createDate</th>\n",
       "      <th>modifyDate</th>\n",
       "      <th>completed</th>\n",
       "      <th>numParts</th>\n",
       "      <th>deleted</th>\n",
       "      <th>length</th>\n",
       "      <th>...</th>\n",
       "      <th>rating</th>\n",
       "      <th>tags</th>\n",
       "      <th>commentCount</th>\n",
       "      <th>readCount</th>\n",
       "      <th>voteCount</th>\n",
       "      <th>userAvatar</th>\n",
       "      <th>userFullname</th>\n",
       "      <th>userName</th>\n",
       "      <th>year</th>\n",
       "      <th>timediff</th>\n",
       "    </tr>\n",
       "  </thead>\n",
       "  <tbody>\n",
       "    <tr>\n",
       "      <th>0</th>\n",
       "      <td>12050237</td>\n",
       "      <td>Hadar #Watty2014</td>\n",
       "      <td>Fina is a Enforcers Daughter, she's been harsh...</td>\n",
       "      <td>https://www.wattpad.com/story/12050237-hadar-w...</td>\n",
       "      <td>2014-01-29T16:24:42Z</td>\n",
       "      <td>2015-01-27T10:47:41Z</td>\n",
       "      <td>True</td>\n",
       "      <td>37</td>\n",
       "      <td>False</td>\n",
       "      <td>407525</td>\n",
       "      <td>...</td>\n",
       "      <td>3</td>\n",
       "      <td>['alpha', 'curse', 'luna', 'magic', 'power', '...</td>\n",
       "      <td>5187</td>\n",
       "      <td>2688905</td>\n",
       "      <td>106844</td>\n",
       "      <td>https://a.wattpad.com/useravatar/RevyRogue.128...</td>\n",
       "      <td>Reviana</td>\n",
       "      <td>RevyRogue</td>\n",
       "      <td>2014</td>\n",
       "      <td>362</td>\n",
       "    </tr>\n",
       "    <tr>\n",
       "      <th>1</th>\n",
       "      <td>42937930</td>\n",
       "      <td>❇awsome comebacks❇</td>\n",
       "      <td>yessss!!!!</td>\n",
       "      <td>https://www.wattpad.com/story/42937930-%E2%9D%...</td>\n",
       "      <td>2015-06-22T23:55:09Z</td>\n",
       "      <td>2015-08-16T08:07:12Z</td>\n",
       "      <td>True</td>\n",
       "      <td>16</td>\n",
       "      <td>False</td>\n",
       "      <td>2204</td>\n",
       "      <td>...</td>\n",
       "      <td>0</td>\n",
       "      <td>['dumb', 'funny', 'listen', 'nothing', 'okay']</td>\n",
       "      <td>9738</td>\n",
       "      <td>1344254</td>\n",
       "      <td>37258</td>\n",
       "      <td>https://a.wattpad.com/useravatar/kittygirl_121...</td>\n",
       "      <td>NaN</td>\n",
       "      <td>kittygirl_121604</td>\n",
       "      <td>2015</td>\n",
       "      <td>54</td>\n",
       "    </tr>\n",
       "  </tbody>\n",
       "</table>\n",
       "<p>2 rows × 25 columns</p>\n",
       "</div>"
      ],
      "text/plain": [
       "         id               title  \\\n",
       "0  12050237    Hadar #Watty2014   \n",
       "1  42937930  ❇awsome comebacks❇   \n",
       "\n",
       "                                         description  \\\n",
       "0  Fina is a Enforcers Daughter, she's been harsh...   \n",
       "1                                         yessss!!!!   \n",
       "\n",
       "                                                 url            createDate  \\\n",
       "0  https://www.wattpad.com/story/12050237-hadar-w...  2014-01-29T16:24:42Z   \n",
       "1  https://www.wattpad.com/story/42937930-%E2%9D%...  2015-06-22T23:55:09Z   \n",
       "\n",
       "             modifyDate  completed  numParts  deleted  length    ...     \\\n",
       "0  2015-01-27T10:47:41Z       True        37    False  407525    ...      \n",
       "1  2015-08-16T08:07:12Z       True        16    False    2204    ...      \n",
       "\n",
       "   rating                                               tags  commentCount  \\\n",
       "0       3  ['alpha', 'curse', 'luna', 'magic', 'power', '...          5187   \n",
       "1       0     ['dumb', 'funny', 'listen', 'nothing', 'okay']          9738   \n",
       "\n",
       "  readCount  voteCount                                         userAvatar  \\\n",
       "0   2688905     106844  https://a.wattpad.com/useravatar/RevyRogue.128...   \n",
       "1   1344254      37258  https://a.wattpad.com/useravatar/kittygirl_121...   \n",
       "\n",
       "  userFullname          userName  year  timediff  \n",
       "0      Reviana         RevyRogue  2014       362  \n",
       "1          NaN  kittygirl_121604  2015        54  \n",
       "\n",
       "[2 rows x 25 columns]"
      ]
     },
     "execution_count": 5,
     "metadata": {},
     "output_type": "execute_result"
    }
   ],
   "source": [
    "#Pull Year from createDate and add as Year column\n",
    "plotdf[\"year\"]=\"\"\n",
    "plotdf[\"timediff\"]=\"\"\n",
    "date=plotdf.at[0,\"createDate\"]\n",
    "year=datetime.strptime(date,\"%Y-%m-%dT%H:%M:%SZ\").strftime(\"%Y\")\n",
    "for r in range(len(plotdf.index)):\n",
    "    cdate=datetime.strptime(plotdf.at[r,\"createDate\"],\"%Y-%m-%dT%H:%M:%SZ\")\n",
    "    mdate=datetime.strptime(plotdf.at[r,\"modifyDate\"],\"%Y-%m-%dT%H:%M:%SZ\")\n",
    "    plotdf.at[r,\"year\"]=datetime.strftime(cdate,\"%Y\")\n",
    "    plotdf.at[r,\"timediff\"]=(mdate-cdate).days\n",
    "plotdf.head(2)\n"
   ]
  },
  {
   "cell_type": "code",
   "execution_count": 15,
   "metadata": {},
   "outputs": [
    {
     "data": {
      "image/png": "[encoded data removed]",
      "text/plain": [
       "<matplotlib.figure.Figure at 0x1d70e854cc0>"
      ]
     },
     "metadata": {},
     "output_type": "display_data"
    }
   ],
   "source": [
    "yeargroup=plotdf[\"id\"].groupby(plotdf[\"year\"]).count()\n",
    "yeargroup.plot.bar()\n",
    "plt.title(\"Number of Stories Created Each Year\")\n",
    "plt.savefig('Images/Stories_Created_by_Year.png')\n",
    "plt.show()"
   ]
  },
  {
   "cell_type": "code",
   "execution_count": 12,
   "metadata": {},
   "outputs": [
    {
     "data": {
      "text/html": [
       "<div>\n",
       "<style>\n",
       "    .dataframe thead tr:only-child th {\n",
       "        text-align: right;\n",
       "    }\n",
       "\n",
       "    .dataframe thead th {\n",
       "        text-align: left;\n",
       "    }\n",
       "\n",
       "    .dataframe tbody tr th {\n",
       "        vertical-align: top;\n",
       "    }\n",
       "</style>\n",
       "<table border=\"1\" class=\"dataframe\">\n",
       "  <thead>\n",
       "    <tr style=\"text-align: right;\">\n",
       "      <th></th>\n",
       "      <th>Average Number of Chapters</th>\n",
       "      <th>Average Time to Complete (days)</th>\n",
       "    </tr>\n",
       "  </thead>\n",
       "  <tbody>\n",
       "    <tr>\n",
       "      <th>0</th>\n",
       "      <td>12</td>\n",
       "      <td>244.0</td>\n",
       "    </tr>\n",
       "  </tbody>\n",
       "</table>\n",
       "</div>"
      ],
      "text/plain": [
       "   Average Number of Chapters  Average Time to Complete (days)\n",
       "0                          12                            244.0"
      ]
     },
     "execution_count": 12,
     "metadata": {},
     "output_type": "execute_result"
    }
   ],
   "source": [
    "completestories_df=plotdf.loc[(plotdf[\"completed\"] ==True)]\n",
    "avgtimetocomplete=round(completestories_df[\"timediff\"].mean())\n",
    "avgnumparts=round(completestories_df[\"numParts\"].mean())\n",
    "output=pd.DataFrame({\"Average Time to Complete (days)\":avgtimetocomplete,\"Average Number of Chapters\":avgnumparts},index=[0])\n",
    "output"
   ]
  },
  {
   "cell_type": "code",
   "execution_count": 16,
   "metadata": {},
   "outputs": [
    {
     "data": {
      "image/png": "[encoded data removed]",
      "text/plain": [
       "<matplotlib.figure.Figure at 0x1d70eb6a8d0>"
      ]
     },
     "metadata": {},
     "output_type": "display_data"
    }
   ],
   "source": [
    "#readcount vs numparts\n",
    "plt.scatter(plotdf[\"numParts\"],plotdf[\"voteCount\"])\n",
    "plt.title(\"Relationship Between Number of Chapters and Read Count\")\n",
    "plt.xlabel(\"Number of Chapters\")\n",
    "plt.ylabel(\"Read Count\")\n",
    "# plt.xlim(0,50)\n",
    "plt.savefig('Images/Number_Chapters_Popularity.png')\n",
    "plt.show()"
   ]
  },
  {
   "cell_type": "code",
   "execution_count": null,
   "metadata": {
    "collapsed": true
   },
   "outputs": [],
   "source": []
  }
 ],
 "metadata": {
  "kernelspec": {
   "display_name": "Python 3",
   "language": "python",
   "name": "python3"
  },
  "language_info": {
   "codemirror_mode": {
    "name": "ipython",
    "version": 3
   },
   "file_extension": ".py",
   "mimetype": "text/x-python",
   "name": "python",
   "nbconvert_exporter": "python",
   "pygments_lexer": "ipython3",
   "version": "3.6.3"
  }
 },
 "nbformat": 4,
 "nbformat_minor": 2
}
