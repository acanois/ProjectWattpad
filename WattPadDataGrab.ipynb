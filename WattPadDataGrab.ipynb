{
 "cells": [
  {
   "cell_type": "code",
   "execution_count": 22,
   "metadata": {},
   "outputs": [],
   "source": [
    "import requests\n",
    "import json\n",
    "import numpy as np\n",
    "API_KEY = \"AVMHeV6pxPlMksujAClTZYB9ylNpKnKdJWLUOVDogtwz\"\n"
   ]
  },
  {
   "cell_type": "code",
   "execution_count": 21,
   "metadata": {},
   "outputs": [],
   "source": [
    "def get_stories(x):\n",
    "    BASE_URL = \"https://www.wattpad.com/v4/stories?limit=100offset%3D0&offset=\"+str(x)\n",
    "\n",
    "    header = {\n",
    "    \"Authorization\": \"Basic {}\".format(API_KEY),\n",
    "    \"Content-Type\": \"application/json\",\n",
    "    \"User-Agent\": \"Mozilla/5.0 (Macintosh; Intel Mac OS X 10_13_3) AppleWebKit/537.36 (KHTML, like Gecko) Chrome/64.0.3282.186 Safari/537.36\",\n",
    "\n",
    "    }\n",
    "\n",
    "    req = requests.get(BASE_URL.format(\"stories\"), headers=header)\n",
    "    json_response = req.json()\n",
    "    return(json_response)\n",
    "    #print(json.dumps(json_response, indent=3, sort_keys=True)) "
   ]
  },
  {
   "cell_type": "code",
   "execution_count": null,
   "metadata": {},
   "outputs": [],
   "source": [
    "#number of stories\n",
    "N=10000\n",
    "json_list=[]\n",
    "for x in np.arange(0,N,100):\n",
    "    json_list.append(get_stories(x))"
   ]
  },
  {
   "cell_type": "code",
   "execution_count": null,
   "metadata": {},
   "outputs": [],
   "source": [
    "json_list=[x['stories'] for x in json_list]\n",
    "json_list=[x for y in json_list for x in y]"
   ]
  },
  {
   "cell_type": "code",
   "execution_count": null,
   "metadata": {
    "collapsed": true
   },
   "outputs": [],
   "source": []
  }
 ],
 "metadata": {
  "kernelspec": {
   "display_name": "Python 3",
   "language": "python",
   "name": "python3"
  },
  "language_info": {
   "codemirror_mode": {
    "name": "ipython",
    "version": 3
   },
   "file_extension": ".py",
   "mimetype": "text/x-python",
   "name": "python",
   "nbconvert_exporter": "python",
   "pygments_lexer": "ipython3",
   "version": "3.6.1"
  }
 },
 "nbformat": 4,
 "nbformat_minor": 2
}
