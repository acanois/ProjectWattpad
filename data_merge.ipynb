{
 "cells": [
  {
   "cell_type": "code",
   "execution_count": 9,
   "metadata": {},
   "outputs": [],
   "source": [
    "import pandas as pd\n",
    "import os"
   ]
  },
  {
   "cell_type": "code",
   "execution_count": 10,
   "metadata": {},
   "outputs": [],
   "source": [
    "thr_df = pd.read_csv(os.path.join('Data', 'stories_3_09_2018.csv'))\n",
    "fri_df = pd.read_csv(os.path.join('Data', 'stories_3_10_2018.csv'))\n",
    "sat_df = pd.read_csv(os.path.join('Data', 'stories.csv'))\n",
    "mon_new_df = pd.read_csv(os.path.join('Data', 'stories_3_12_2018_new.csv'))\n",
    "mon_df = pd.read_csv(os.path.join('Data', 'stories_3_12_2018.csv'))\n",
    "    "
   ]
  },
  {
   "cell_type": "code",
   "execution_count": 11,
   "metadata": {},
   "outputs": [],
   "source": [
    "frames = [thr_df, fri_df, sat_df, mon_df, mon_new_df]\n",
    "stories_df = pd.concat(frames)"
   ]
  },
  {
   "cell_type": "code",
   "execution_count": 12,
   "metadata": {},
   "outputs": [],
   "source": [
    "stories_merge = pd.merge(thr_df, fri_df, how='outer', on='id')\n",
    "stories_merge = pd.merge(stories_merge, sat_df, how='outer', on='id')\n",
    "stories_merge = pd.merge(stories_merge, mon_df, how='outer', on='id')\n",
    "stories_merge = pd.merge(stories_merge, mon_new_df, how='outer', on='id')\n"
   ]
  },
  {
   "cell_type": "code",
   "execution_count": 13,
   "metadata": {},
   "outputs": [],
   "source": [
    "stories_merge.to_csv(os.path.join('Data', 'stories_merge.csv'))"
   ]
  },
  {
   "cell_type": "code",
   "execution_count": 14,
   "metadata": {},
   "outputs": [
    {
     "data": {
      "text/plain": [
       "array([19,  6,  8,  4,  2,  7,  1, 21,  5,  3, 17, 16,  9, 11, 18, 22, 14,\n",
       "       12, 13, 23, 24])"
      ]
     },
     "execution_count": 14,
     "metadata": {},
     "output_type": "execute_result"
    }
   ],
   "source": [
    "mon_new_df.categories.unique()"
   ]
  },
  {
   "cell_type": "code",
   "execution_count": null,
   "metadata": {},
   "outputs": [],
   "source": []
  }
 ],
 "metadata": {
  "kernelspec": {
   "display_name": "Python [conda env:ds3]",
   "language": "python",
   "name": "conda-env-ds3-py"
  },
  "language_info": {
   "codemirror_mode": {
    "name": "ipython",
    "version": 3
   },
   "file_extension": ".py",
   "mimetype": "text/x-python",
   "name": "python",
   "nbconvert_exporter": "python",
   "pygments_lexer": "ipython3",
   "version": "3.6.3"
  }
 },
 "nbformat": 4,
 "nbformat_minor": 2
}
